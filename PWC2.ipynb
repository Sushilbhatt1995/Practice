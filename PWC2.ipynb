{
 "cells": [
  {
   "cell_type": "code",
   "execution_count": 1,
   "id": "da92d746-7ab1-4ec6-b05d-35985e60d225",
   "metadata": {},
   "outputs": [],
   "source": [
    " L1 = [45,\"Sushil\",\"Laxman\", 245 , 543.22, 3.0, 5+ 7j]"
   ]
  },
  {
   "cell_type": "code",
   "execution_count": 2,
   "id": "63f1e04c-f92a-459f-80d1-17adc6daebcb",
   "metadata": {},
   "outputs": [
    {
     "data": {
      "text/plain": [
       "list"
      ]
     },
     "execution_count": 2,
     "metadata": {},
     "output_type": "execute_result"
    }
   ],
   "source": [
    "type(L1)"
   ]
  },
  {
   "cell_type": "code",
   "execution_count": 3,
   "id": "f965d802-986b-4152-8ca2-609052b9b4bc",
   "metadata": {},
   "outputs": [
    {
     "ename": "TypeError",
     "evalue": "'list' object is not callable",
     "output_type": "error",
     "traceback": [
      "\u001b[0;31m---------------------------------------------------------------------------\u001b[0m",
      "\u001b[0;31mTypeError\u001b[0m                                 Traceback (most recent call last)",
      "Cell \u001b[0;32mIn[3], line 1\u001b[0m\n\u001b[0;32m----> 1\u001b[0m \u001b[43mL1\u001b[49m\u001b[43m(\u001b[49m\u001b[38;5;241;43m0\u001b[39;49m\u001b[43m)\u001b[49m\n",
      "\u001b[0;31mTypeError\u001b[0m: 'list' object is not callable"
     ]
    }
   ],
   "source": [
    "L1(0)"
   ]
  },
  {
   "cell_type": "code",
   "execution_count": 4,
   "id": "20fd43d5-1021-4f1d-a661-244c0be17746",
   "metadata": {},
   "outputs": [
    {
     "data": {
      "text/plain": [
       "45"
      ]
     },
     "execution_count": 4,
     "metadata": {},
     "output_type": "execute_result"
    }
   ],
   "source": [
    "L1[0]"
   ]
  },
  {
   "cell_type": "code",
   "execution_count": 5,
   "id": "8e586eab-fba3-49ec-b1ee-56df5ed05d99",
   "metadata": {},
   "outputs": [
    {
     "data": {
      "text/plain": [
       "245"
      ]
     },
     "execution_count": 5,
     "metadata": {},
     "output_type": "execute_result"
    }
   ],
   "source": [
    "L1[3]"
   ]
  },
  {
   "cell_type": "code",
   "execution_count": 6,
   "id": "df7f2325-4e21-47db-9995-9d81efff37bc",
   "metadata": {},
   "outputs": [
    {
     "data": {
      "text/plain": [
       "[45, 'Sushil', 'Laxman', 245, 543.22, 3.0, (5+7j)]"
      ]
     },
     "execution_count": 6,
     "metadata": {},
     "output_type": "execute_result"
    }
   ],
   "source": [
    "L1"
   ]
  },
  {
   "cell_type": "code",
   "execution_count": 7,
   "id": "6720fd44-3fee-4b8f-a49f-b25b1b82c3f6",
   "metadata": {},
   "outputs": [
    {
     "data": {
      "text/plain": [
       "(5+7j)"
      ]
     },
     "execution_count": 7,
     "metadata": {},
     "output_type": "execute_result"
    }
   ],
   "source": [
    "L1[-1]"
   ]
  },
  {
   "cell_type": "code",
   "execution_count": 8,
   "id": "75df1bb6-5ea8-4f84-8373-dd1367d30aef",
   "metadata": {},
   "outputs": [
    {
     "ename": "IndexError",
     "evalue": "list index out of range",
     "output_type": "error",
     "traceback": [
      "\u001b[0;31m---------------------------------------------------------------------------\u001b[0m",
      "\u001b[0;31mIndexError\u001b[0m                                Traceback (most recent call last)",
      "Cell \u001b[0;32mIn[8], line 1\u001b[0m\n\u001b[0;32m----> 1\u001b[0m \u001b[43mL1\u001b[49m\u001b[43m[\u001b[49m\u001b[38;5;241;43m55\u001b[39;49m\u001b[43m]\u001b[49m\n",
      "\u001b[0;31mIndexError\u001b[0m: list index out of range"
     ]
    }
   ],
   "source": [
    "L1[55]"
   ]
  },
  {
   "cell_type": "code",
   "execution_count": 9,
   "id": "52b0ca6d-fe9b-4112-b553-e33776a48d6c",
   "metadata": {},
   "outputs": [
    {
     "data": {
      "text/plain": [
       "[45, 'Sushil', 'Laxman', 245, 543.22, 3.0, (5+7j)]"
      ]
     },
     "execution_count": 9,
     "metadata": {},
     "output_type": "execute_result"
    }
   ],
   "source": [
    "L1"
   ]
  },
  {
   "cell_type": "code",
   "execution_count": 10,
   "id": "222a7462-bf71-421e-9914-f8487cc7c50e",
   "metadata": {},
   "outputs": [
    {
     "ename": "AttributeError",
     "evalue": "'list' object has no attribute 'find'",
     "output_type": "error",
     "traceback": [
      "\u001b[0;31m---------------------------------------------------------------------------\u001b[0m",
      "\u001b[0;31mAttributeError\u001b[0m                            Traceback (most recent call last)",
      "Cell \u001b[0;32mIn[10], line 1\u001b[0m\n\u001b[0;32m----> 1\u001b[0m \u001b[43mL1\u001b[49m\u001b[38;5;241;43m.\u001b[39;49m\u001b[43mfind\u001b[49m(\u001b[38;5;241m45\u001b[39m)\n",
      "\u001b[0;31mAttributeError\u001b[0m: 'list' object has no attribute 'find'"
     ]
    }
   ],
   "source": [
    "L1.find(45)"
   ]
  },
  {
   "cell_type": "code",
   "execution_count": 11,
   "id": "4ceb3f85-5b3e-44ed-8d2e-d35f92d54f71",
   "metadata": {},
   "outputs": [
    {
     "ename": "SyntaxError",
     "evalue": "invalid syntax (2237161828.py, line 1)",
     "output_type": "error",
     "traceback": [
      "\u001b[0;36m  Cell \u001b[0;32mIn[11], line 1\u001b[0;36m\u001b[0m\n\u001b[0;31m    L1.count[]\u001b[0m\n\u001b[0m             ^\u001b[0m\n\u001b[0;31mSyntaxError\u001b[0m\u001b[0;31m:\u001b[0m invalid syntax\n"
     ]
    }
   ],
   "source": [
    "L1.count[]"
   ]
  },
  {
   "cell_type": "code",
   "execution_count": 12,
   "id": "e157c8af-0083-4a89-ac76-2fb91a6b0c37",
   "metadata": {},
   "outputs": [
    {
     "data": {
      "text/plain": [
       "[45, 'Sushil', 'Laxman', 245, 543.22, 3.0, (5+7j)]"
      ]
     },
     "execution_count": 12,
     "metadata": {},
     "output_type": "execute_result"
    }
   ],
   "source": [
    "L1"
   ]
  },
  {
   "cell_type": "code",
   "execution_count": 13,
   "id": "1051443e-9ac2-45cf-acf6-d8fbc050b532",
   "metadata": {},
   "outputs": [
    {
     "data": {
      "text/plain": [
       "[45, 'Sushil', 'Laxman']"
      ]
     },
     "execution_count": 13,
     "metadata": {},
     "output_type": "execute_result"
    }
   ],
   "source": [
    "L1[0:3]"
   ]
  },
  {
   "cell_type": "code",
   "execution_count": 14,
   "id": "7b00cef7-fcda-4d4b-bafd-31aba492bf37",
   "metadata": {},
   "outputs": [
    {
     "data": {
      "text/plain": [
       "[]"
      ]
     },
     "execution_count": 14,
     "metadata": {},
     "output_type": "execute_result"
    }
   ],
   "source": [
    "L1[-1:-5]"
   ]
  },
  {
   "cell_type": "code",
   "execution_count": 15,
   "id": "49982498-7e66-485f-90a7-5e47a9db9103",
   "metadata": {},
   "outputs": [
    {
     "data": {
      "text/plain": [
       "['Laxman', 245, 543.22, 3.0]"
      ]
     },
     "execution_count": 15,
     "metadata": {},
     "output_type": "execute_result"
    }
   ],
   "source": [
    "L1[-5:-1]"
   ]
  },
  {
   "cell_type": "code",
   "execution_count": 16,
   "id": "8dc19797-c4bc-43fe-a248-4842ea6fe542",
   "metadata": {},
   "outputs": [
    {
     "data": {
      "text/plain": [
       "[(5+7j), 3.0, 543.22, 245, 'Laxman', 'Sushil', 45]"
      ]
     },
     "execution_count": 16,
     "metadata": {},
     "output_type": "execute_result"
    }
   ],
   "source": [
    "L1[::-1]"
   ]
  },
  {
   "cell_type": "code",
   "execution_count": 17,
   "id": "0c56d1fd-52b5-4674-be33-167b54e6340c",
   "metadata": {},
   "outputs": [
    {
     "ename": "AttributeError",
     "evalue": "'list' object has no attribute 'update'",
     "output_type": "error",
     "traceback": [
      "\u001b[0;31m---------------------------------------------------------------------------\u001b[0m",
      "\u001b[0;31mAttributeError\u001b[0m                            Traceback (most recent call last)",
      "Cell \u001b[0;32mIn[17], line 1\u001b[0m\n\u001b[0;32m----> 1\u001b[0m \u001b[43mL1\u001b[49m\u001b[38;5;241;43m.\u001b[39;49m\u001b[43mupdate\u001b[49m(\u001b[38;5;28;01mTrue\u001b[39;00m)\n",
      "\u001b[0;31mAttributeError\u001b[0m: 'list' object has no attribute 'update'"
     ]
    }
   ],
   "source": [
    "L1.update(True)"
   ]
  },
  {
   "cell_type": "code",
   "execution_count": 18,
   "id": "4229da43-9cb7-4eee-a25d-539511b3ff8c",
   "metadata": {},
   "outputs": [
    {
     "data": {
      "text/plain": [
       "[45, 'Sushil', 'Laxman', 245, 543.22, 3.0, (5+7j)]"
      ]
     },
     "execution_count": 18,
     "metadata": {},
     "output_type": "execute_result"
    }
   ],
   "source": [
    "L1"
   ]
  },
  {
   "cell_type": "code",
   "execution_count": 20,
   "id": "edaa3180-2128-464c-8af5-e6e369da4ea7",
   "metadata": {},
   "outputs": [
    {
     "data": {
      "text/plain": [
       "[45, 'Laxman', 543.22, (5+7j)]"
      ]
     },
     "execution_count": 20,
     "metadata": {},
     "output_type": "execute_result"
    }
   ],
   "source": [
    "L1[::2]"
   ]
  },
  {
   "cell_type": "code",
   "execution_count": 21,
   "id": "4b25ae81-c9e9-4830-9527-40380ccc4a03",
   "metadata": {},
   "outputs": [],
   "source": [
    "L2 = [\"Swis\"]"
   ]
  },
  {
   "cell_type": "code",
   "execution_count": 22,
   "id": "a0a46666-ef61-4c4f-8168-eb71e6717e5b",
   "metadata": {},
   "outputs": [
    {
     "data": {
      "text/plain": [
       "['Swis']"
      ]
     },
     "execution_count": 22,
     "metadata": {},
     "output_type": "execute_result"
    }
   ],
   "source": [
    "L2"
   ]
  },
  {
   "cell_type": "code",
   "execution_count": 23,
   "id": "14df7dfb-65a5-4abf-9dd4-2a0353761b83",
   "metadata": {},
   "outputs": [
    {
     "data": {
      "text/plain": [
       "[45, 'Sushil', 'Laxman', 245, 543.22, 3.0, (5+7j), 'Swis']"
      ]
     },
     "execution_count": 23,
     "metadata": {},
     "output_type": "execute_result"
    }
   ],
   "source": [
    "L1+L2"
   ]
  },
  {
   "cell_type": "code",
   "execution_count": 24,
   "id": "1c44b08b-d6e7-4082-820e-cebcdbcd88f3",
   "metadata": {},
   "outputs": [
    {
     "data": {
      "text/plain": [
       "'Sushil'"
      ]
     },
     "execution_count": 24,
     "metadata": {},
     "output_type": "execute_result"
    }
   ],
   "source": [
    "L1[1]"
   ]
  },
  {
   "cell_type": "code",
   "execution_count": 25,
   "id": "7b0d6add-c29e-4c0f-9fb3-5a831a82bbaa",
   "metadata": {},
   "outputs": [
    {
     "data": {
      "text/plain": [
       "'Su'"
      ]
     },
     "execution_count": 25,
     "metadata": {},
     "output_type": "execute_result"
    }
   ],
   "source": [
    "L1[1][0:2]"
   ]
  },
  {
   "cell_type": "code",
   "execution_count": 26,
   "id": "ec5ee5c0-0e5c-4cc5-8e68-dafef841eae7",
   "metadata": {},
   "outputs": [
    {
     "data": {
      "text/plain": [
       "[45, 'Sushil', 'Laxman', 245, 543.22, 3.0, (5+7j)]"
      ]
     },
     "execution_count": 26,
     "metadata": {},
     "output_type": "execute_result"
    }
   ],
   "source": [
    "L1"
   ]
  },
  {
   "cell_type": "code",
   "execution_count": 27,
   "id": "bb44d40d-4999-4131-956b-330d45275c88",
   "metadata": {},
   "outputs": [
    {
     "data": {
      "text/plain": [
       "[45, 'Sushil', 'Laxman', 245, 543.22, 3.0, (5+7j)]"
      ]
     },
     "execution_count": 27,
     "metadata": {},
     "output_type": "execute_result"
    }
   ],
   "source": [
    "L1"
   ]
  },
  {
   "cell_type": "code",
   "execution_count": 29,
   "id": "9569832c-fa67-4836-9265-f840680d5e6b",
   "metadata": {},
   "outputs": [],
   "source": [
    "L1.append(True)"
   ]
  },
  {
   "cell_type": "code",
   "execution_count": 30,
   "id": "bafb35dd-f5c0-43ab-8848-b03a78a98fe4",
   "metadata": {},
   "outputs": [
    {
     "data": {
      "text/plain": [
       "[45, 'Sushil', 'Laxman', 245, 543.22, 3.0, (5+7j), True]"
      ]
     },
     "execution_count": 30,
     "metadata": {},
     "output_type": "execute_result"
    }
   ],
   "source": [
    "L1"
   ]
  },
  {
   "cell_type": "code",
   "execution_count": 31,
   "id": "3b0b3744-ffc6-4b78-87c4-15f189366c3a",
   "metadata": {},
   "outputs": [
    {
     "data": {
      "text/plain": [
       "[45, 'Sushil', 'Laxman', 245, 543.22, 3.0, (5+7j), True]"
      ]
     },
     "execution_count": 31,
     "metadata": {},
     "output_type": "execute_result"
    }
   ],
   "source": [
    "L1"
   ]
  },
  {
   "cell_type": "code",
   "execution_count": 34,
   "id": "f6a612bf-b972-4ab4-973f-91b57f3ad900",
   "metadata": {},
   "outputs": [
    {
     "data": {
      "text/plain": [
       "True"
      ]
     },
     "execution_count": 34,
     "metadata": {},
     "output_type": "execute_result"
    }
   ],
   "source": [
    "L1[7]"
   ]
  },
  {
   "cell_type": "code",
   "execution_count": 40,
   "id": "2f5f7d8f-c236-4939-a9f7-014e34c30663",
   "metadata": {},
   "outputs": [
    {
     "data": {
      "text/plain": [
       "'Tr'"
      ]
     },
     "execution_count": 40,
     "metadata": {},
     "output_type": "execute_result"
    }
   ],
   "source": [
    "str(L1[7])[0:2]"
   ]
  },
  {
   "cell_type": "code",
   "execution_count": 41,
   "id": "638b54aa-6715-4be3-aa88-90f7e1aac26d",
   "metadata": {},
   "outputs": [
    {
     "data": {
      "text/plain": [
       "8"
      ]
     },
     "execution_count": 41,
     "metadata": {},
     "output_type": "execute_result"
    }
   ],
   "source": [
    "len(L1)"
   ]
  },
  {
   "cell_type": "code",
   "execution_count": 45,
   "id": "955115d8-9223-48e1-800c-3c103467ac9b",
   "metadata": {},
   "outputs": [],
   "source": [
    "L1.append(\"pwskills\")"
   ]
  },
  {
   "cell_type": "code",
   "execution_count": 46,
   "id": "ec196f35-31c9-4a00-8ccb-5ebedc4e7f5b",
   "metadata": {},
   "outputs": [
    {
     "data": {
      "text/plain": [
       "[45, 'Sushil', 'Laxman', 245, 543.22, 3.0, (5+7j), True, 'pwskills']"
      ]
     },
     "execution_count": 46,
     "metadata": {},
     "output_type": "execute_result"
    }
   ],
   "source": [
    "L1"
   ]
  },
  {
   "cell_type": "code",
   "execution_count": 47,
   "id": "a36cd0bb-435e-4308-a6e5-b629daeda1c1",
   "metadata": {},
   "outputs": [
    {
     "data": {
      "text/plain": [
       "9"
      ]
     },
     "execution_count": 47,
     "metadata": {},
     "output_type": "execute_result"
    }
   ],
   "source": [
    "len(L1)"
   ]
  },
  {
   "cell_type": "code",
   "execution_count": 48,
   "id": "32db4ae4-1ac1-4798-b4e2-97934c005a28",
   "metadata": {},
   "outputs": [],
   "source": [
    "L1.append(L2)"
   ]
  },
  {
   "cell_type": "code",
   "execution_count": 49,
   "id": "942e1bf1-d7b8-409f-9e08-995b94d77a7b",
   "metadata": {},
   "outputs": [
    {
     "data": {
      "text/plain": [
       "[45, 'Sushil', 'Laxman', 245, 543.22, 3.0, (5+7j), True, 'pwskills', ['Swis']]"
      ]
     },
     "execution_count": 49,
     "metadata": {},
     "output_type": "execute_result"
    }
   ],
   "source": [
    "L1"
   ]
  },
  {
   "cell_type": "code",
   "execution_count": 50,
   "id": "a1a19559-b5fd-4559-9e3c-d0fbec2afbcd",
   "metadata": {},
   "outputs": [
    {
     "data": {
      "text/plain": [
       "['Swis']"
      ]
     },
     "execution_count": 50,
     "metadata": {},
     "output_type": "execute_result"
    }
   ],
   "source": [
    "L1[-1]"
   ]
  },
  {
   "cell_type": "code",
   "execution_count": 51,
   "id": "0686f5bc-1c73-46c6-9a25-c40079b37a57",
   "metadata": {},
   "outputs": [
    {
     "data": {
      "text/plain": [
       "'Swis'"
      ]
     },
     "execution_count": 51,
     "metadata": {},
     "output_type": "execute_result"
    }
   ],
   "source": [
    "L1[-1][0]"
   ]
  },
  {
   "cell_type": "code",
   "execution_count": 54,
   "id": "4895901e-380d-4718-8cda-116108bdd34d",
   "metadata": {},
   "outputs": [
    {
     "data": {
      "text/plain": [
       "'S'"
      ]
     },
     "execution_count": 54,
     "metadata": {},
     "output_type": "execute_result"
    }
   ],
   "source": [
    "str(L1[-1][0])[0]"
   ]
  },
  {
   "cell_type": "code",
   "execution_count": 55,
   "id": "5f93df14-083a-47e2-9982-c9f8a97f554a",
   "metadata": {},
   "outputs": [
    {
     "ename": "TypeError",
     "evalue": "'int' object is not iterable",
     "output_type": "error",
     "traceback": [
      "\u001b[0;31m---------------------------------------------------------------------------\u001b[0m",
      "\u001b[0;31mTypeError\u001b[0m                                 Traceback (most recent call last)",
      "Cell \u001b[0;32mIn[55], line 1\u001b[0m\n\u001b[0;32m----> 1\u001b[0m \u001b[43mL1\u001b[49m\u001b[38;5;241;43m.\u001b[39;49m\u001b[43mextend\u001b[49m\u001b[43m(\u001b[49m\u001b[38;5;241;43m4\u001b[39;49m\u001b[43m)\u001b[49m\n",
      "\u001b[0;31mTypeError\u001b[0m: 'int' object is not iterable"
     ]
    }
   ],
   "source": [
    "L1.extend(4)"
   ]
  },
  {
   "cell_type": "code",
   "execution_count": 56,
   "id": "366d576a-3d36-4ce4-9635-082d8f10e4f6",
   "metadata": {},
   "outputs": [],
   "source": [
    "L1.extend([2,2,6])"
   ]
  },
  {
   "cell_type": "code",
   "execution_count": 57,
   "id": "a0dbb7a4-ada1-4c57-8189-8037fc5838f2",
   "metadata": {},
   "outputs": [
    {
     "data": {
      "text/plain": [
       "[45,\n",
       " 'Sushil',\n",
       " 'Laxman',\n",
       " 245,\n",
       " 543.22,\n",
       " 3.0,\n",
       " (5+7j),\n",
       " True,\n",
       " 'pwskills',\n",
       " ['Swis'],\n",
       " 2,\n",
       " 2,\n",
       " 6]"
      ]
     },
     "execution_count": 57,
     "metadata": {},
     "output_type": "execute_result"
    }
   ],
   "source": [
    "L1"
   ]
  },
  {
   "cell_type": "code",
   "execution_count": 58,
   "id": "c4e57e87-3e29-406f-8699-76e2793cadbf",
   "metadata": {},
   "outputs": [
    {
     "data": {
      "text/plain": [
       "13"
      ]
     },
     "execution_count": 58,
     "metadata": {},
     "output_type": "execute_result"
    }
   ],
   "source": [
    "len(L1)"
   ]
  },
  {
   "cell_type": "code",
   "execution_count": 59,
   "id": "26c12dd2-8554-41a5-92ee-9a67a25bd684",
   "metadata": {},
   "outputs": [
    {
     "data": {
      "text/plain": [
       "['Swis']"
      ]
     },
     "execution_count": 59,
     "metadata": {},
     "output_type": "execute_result"
    }
   ],
   "source": [
    "L2"
   ]
  },
  {
   "cell_type": "code",
   "execution_count": 60,
   "id": "e1e42666-6535-470a-9402-6b8cf2e8b2c1",
   "metadata": {},
   "outputs": [],
   "source": [
    "L3 = [5,3,8]"
   ]
  },
  {
   "cell_type": "code",
   "execution_count": 61,
   "id": "41b5ac93-8f4a-46de-8f4f-d60cdf3ef87e",
   "metadata": {},
   "outputs": [
    {
     "data": {
      "text/plain": [
       "[5, 3, 8]"
      ]
     },
     "execution_count": 61,
     "metadata": {},
     "output_type": "execute_result"
    }
   ],
   "source": [
    "L3"
   ]
  },
  {
   "cell_type": "code",
   "execution_count": 65,
   "id": "fd88014c-d4d7-43e4-b73d-77f61d32deab",
   "metadata": {},
   "outputs": [],
   "source": [
    "L3.insert(3,0)"
   ]
  },
  {
   "cell_type": "code",
   "execution_count": 66,
   "id": "6c1621b0-7b7c-464d-9ee2-72e11804e5b6",
   "metadata": {},
   "outputs": [
    {
     "data": {
      "text/plain": [
       "[5, 3, 8, 0, 3]"
      ]
     },
     "execution_count": 66,
     "metadata": {},
     "output_type": "execute_result"
    }
   ],
   "source": [
    "L3"
   ]
  },
  {
   "cell_type": "code",
   "execution_count": 67,
   "id": "0e9d4f80-d8da-4b79-b007-3240891a1380",
   "metadata": {},
   "outputs": [],
   "source": [
    "L3.insert(1,\"sudh\")"
   ]
  },
  {
   "cell_type": "code",
   "execution_count": 68,
   "id": "4062f183-cca0-4390-9860-028d2b6cd84a",
   "metadata": {},
   "outputs": [
    {
     "data": {
      "text/plain": [
       "[5, 'sudh', 3, 8, 0, 3]"
      ]
     },
     "execution_count": 68,
     "metadata": {},
     "output_type": "execute_result"
    }
   ],
   "source": [
    "L3"
   ]
  },
  {
   "cell_type": "code",
   "execution_count": 69,
   "id": "2e36608e-f680-4bed-bdde-657ea3845a62",
   "metadata": {},
   "outputs": [],
   "source": [
    "L3.insert(0, [2,5,8,2])"
   ]
  },
  {
   "cell_type": "code",
   "execution_count": 70,
   "id": "0b4d0821-fd6f-4a56-973b-d9eca6e95f4c",
   "metadata": {},
   "outputs": [
    {
     "data": {
      "text/plain": [
       "[[2, 5, 8, 2], 5, 'sudh', 3, 8, 0, 3]"
      ]
     },
     "execution_count": 70,
     "metadata": {},
     "output_type": "execute_result"
    }
   ],
   "source": [
    "L3"
   ]
  },
  {
   "cell_type": "code",
   "execution_count": 71,
   "id": "cd4182c6-b050-4d37-a7bb-1909db2839ee",
   "metadata": {},
   "outputs": [
    {
     "data": {
      "text/plain": [
       "7"
      ]
     },
     "execution_count": 71,
     "metadata": {},
     "output_type": "execute_result"
    }
   ],
   "source": [
    "len(L3)"
   ]
  },
  {
   "cell_type": "code",
   "execution_count": 74,
   "id": "482dc7d9-5a62-4c3c-8931-dc78f67029bb",
   "metadata": {},
   "outputs": [],
   "source": [
    "L3.insert(-0,1)"
   ]
  },
  {
   "cell_type": "code",
   "execution_count": 73,
   "id": "4fb2fd1e-da3d-47ae-aea5-80ac40d2b737",
   "metadata": {},
   "outputs": [
    {
     "data": {
      "text/plain": [
       "[[2, 5, 8, 2], 5, 'sudh', 3, 8, 0, 1, 3]"
      ]
     },
     "execution_count": 73,
     "metadata": {},
     "output_type": "execute_result"
    }
   ],
   "source": [
    "L3"
   ]
  },
  {
   "cell_type": "code",
   "execution_count": 75,
   "id": "1e37a230-3715-44d4-98ba-5b15c010fcf0",
   "metadata": {},
   "outputs": [
    {
     "data": {
      "text/plain": [
       "[1, [2, 5, 8, 2], 5, 'sudh', 3, 8, 0, 1, 3]"
      ]
     },
     "execution_count": 75,
     "metadata": {},
     "output_type": "execute_result"
    }
   ],
   "source": [
    "L3"
   ]
  },
  {
   "cell_type": "code",
   "execution_count": 76,
   "id": "cfada2c1-297d-4fe2-bdf3-0160d38adeb5",
   "metadata": {},
   "outputs": [
    {
     "data": {
      "text/plain": [
       "6"
      ]
     },
     "execution_count": 76,
     "metadata": {},
     "output_type": "execute_result"
    }
   ],
   "source": [
    "L1.pop()"
   ]
  },
  {
   "cell_type": "code",
   "execution_count": 77,
   "id": "30f1b9e7-cdfc-4abf-9ef4-68298f005358",
   "metadata": {},
   "outputs": [
    {
     "data": {
      "text/plain": [
       "3"
      ]
     },
     "execution_count": 77,
     "metadata": {},
     "output_type": "execute_result"
    }
   ],
   "source": [
    "L3.pop()"
   ]
  },
  {
   "cell_type": "code",
   "execution_count": 78,
   "id": "70e606da-aca1-47d5-aa1f-340df525d57c",
   "metadata": {},
   "outputs": [
    {
     "data": {
      "text/plain": [
       "'sudh'"
      ]
     },
     "execution_count": 78,
     "metadata": {},
     "output_type": "execute_result"
    }
   ],
   "source": [
    "L3.pop(3)"
   ]
  },
  {
   "cell_type": "code",
   "execution_count": 79,
   "id": "0a070101-d626-46ff-8a8f-6c83e0eb97c6",
   "metadata": {},
   "outputs": [
    {
     "data": {
      "text/plain": [
       "[1, [2, 5, 8, 2], 5, 3, 8, 0, 1]"
      ]
     },
     "execution_count": 79,
     "metadata": {},
     "output_type": "execute_result"
    }
   ],
   "source": [
    "L3"
   ]
  },
  {
   "cell_type": "code",
   "execution_count": 81,
   "id": "d608a2c9-2435-4584-9dc6-4770123d9c02",
   "metadata": {},
   "outputs": [],
   "source": [
    "L3.remove(0)"
   ]
  },
  {
   "cell_type": "code",
   "execution_count": 82,
   "id": "18be955e-4570-4852-b4f7-75350bc3082c",
   "metadata": {},
   "outputs": [
    {
     "data": {
      "text/plain": [
       "[1, [2, 5, 8, 2], 5, 3, 8, 1]"
      ]
     },
     "execution_count": 82,
     "metadata": {},
     "output_type": "execute_result"
    }
   ],
   "source": [
    "L3"
   ]
  },
  {
   "cell_type": "code",
   "execution_count": 83,
   "id": "291a60c8-9dea-43d7-80da-b00424622f1e",
   "metadata": {},
   "outputs": [
    {
     "ename": "TypeError",
     "evalue": "'NoneType' object is not subscriptable",
     "output_type": "error",
     "traceback": [
      "\u001b[0;31m---------------------------------------------------------------------------\u001b[0m",
      "\u001b[0;31mTypeError\u001b[0m                                 Traceback (most recent call last)",
      "Cell \u001b[0;32mIn[83], line 1\u001b[0m\n\u001b[0;32m----> 1\u001b[0m \u001b[43mL3\u001b[49m\u001b[38;5;241;43m.\u001b[39;49m\u001b[43mremove\u001b[49m\u001b[43m(\u001b[49m\u001b[38;5;241;43m1\u001b[39;49m\u001b[43m)\u001b[49m\u001b[43m[\u001b[49m\u001b[38;5;241;43m5\u001b[39;49m\u001b[43m]\u001b[49m\n",
      "\u001b[0;31mTypeError\u001b[0m: 'NoneType' object is not subscriptable"
     ]
    }
   ],
   "source": [
    "L3.remove(1)[5]"
   ]
  },
  {
   "cell_type": "code",
   "execution_count": 87,
   "id": "84408522-0c84-4322-96ac-4bded53a8240",
   "metadata": {},
   "outputs": [],
   "source": [
    "L3[0].remove(2)"
   ]
  },
  {
   "cell_type": "code",
   "execution_count": 88,
   "id": "083ee1f6-a392-4004-89c6-760698a84d45",
   "metadata": {},
   "outputs": [
    {
     "data": {
      "text/plain": [
       "[[5, 8, 2], 5, 3, 8, 1]"
      ]
     },
     "execution_count": 88,
     "metadata": {},
     "output_type": "execute_result"
    }
   ],
   "source": [
    "L3"
   ]
  },
  {
   "cell_type": "code",
   "execution_count": 89,
   "id": "16e1037f-cdea-4d37-8fd1-8380d9ce24bd",
   "metadata": {},
   "outputs": [
    {
     "data": {
      "text/plain": [
       "[45,\n",
       " 'Sushil',\n",
       " 'Laxman',\n",
       " 245,\n",
       " 543.22,\n",
       " 3.0,\n",
       " (5+7j),\n",
       " True,\n",
       " 'pwskills',\n",
       " ['Swis'],\n",
       " 2,\n",
       " 2]"
      ]
     },
     "execution_count": 89,
     "metadata": {},
     "output_type": "execute_result"
    }
   ],
   "source": [
    "L1"
   ]
  },
  {
   "cell_type": "code",
   "execution_count": 90,
   "id": "5ea240cb-1cec-44b3-9e3f-ade94b45fbb9",
   "metadata": {},
   "outputs": [
    {
     "data": {
      "text/plain": [
       "['Swis']"
      ]
     },
     "execution_count": 90,
     "metadata": {},
     "output_type": "execute_result"
    }
   ],
   "source": [
    "L2"
   ]
  },
  {
   "cell_type": "code",
   "execution_count": 93,
   "id": "0d00a8a4-6c2c-4944-a8ba-6cd4190e33bd",
   "metadata": {},
   "outputs": [],
   "source": [
    "L3.append(L2)"
   ]
  },
  {
   "cell_type": "code",
   "execution_count": 94,
   "id": "9318c762-fd6a-4c25-aa10-5f69dd938c42",
   "metadata": {},
   "outputs": [
    {
     "data": {
      "text/plain": [
       "[[5, 8, 2], 5, 3, 8, 1, ['Swis']]"
      ]
     },
     "execution_count": 94,
     "metadata": {},
     "output_type": "execute_result"
    }
   ],
   "source": [
    "L3"
   ]
  },
  {
   "cell_type": "code",
   "execution_count": 95,
   "id": "1825f935-9c5f-48df-a527-583e0106b4c4",
   "metadata": {},
   "outputs": [
    {
     "data": {
      "text/plain": [
       "6"
      ]
     },
     "execution_count": 95,
     "metadata": {},
     "output_type": "execute_result"
    }
   ],
   "source": [
    "len(L3)"
   ]
  },
  {
   "cell_type": "code",
   "execution_count": 97,
   "id": "e53cf44c-eaf7-4b55-b26c-c7c1ce43881b",
   "metadata": {},
   "outputs": [],
   "source": [
    "L3.remove(1)"
   ]
  },
  {
   "cell_type": "code",
   "execution_count": 98,
   "id": "92beddc9-7165-4ce6-b620-a9a5ec20964a",
   "metadata": {},
   "outputs": [
    {
     "data": {
      "text/plain": [
       "['Swis']"
      ]
     },
     "execution_count": 98,
     "metadata": {},
     "output_type": "execute_result"
    }
   ],
   "source": [
    "L3[-1]"
   ]
  },
  {
   "cell_type": "code",
   "execution_count": 101,
   "id": "3695584f-ce65-47c1-b366-ebc819b33098",
   "metadata": {},
   "outputs": [
    {
     "ename": "ValueError",
     "evalue": "list.remove(x): x not in list",
     "output_type": "error",
     "traceback": [
      "\u001b[0;31m---------------------------------------------------------------------------\u001b[0m",
      "\u001b[0;31mValueError\u001b[0m                                Traceback (most recent call last)",
      "Cell \u001b[0;32mIn[101], line 1\u001b[0m\n\u001b[0;32m----> 1\u001b[0m \u001b[43mL3\u001b[49m\u001b[43m[\u001b[49m\u001b[38;5;241;43m-\u001b[39;49m\u001b[38;5;241;43m1\u001b[39;49m\u001b[43m]\u001b[49m\u001b[38;5;241;43m.\u001b[39;49m\u001b[43mremove\u001b[49m\u001b[43m(\u001b[49m\u001b[38;5;124;43m\"\u001b[39;49m\u001b[38;5;124;43m[]\u001b[39;49m\u001b[38;5;124;43m\"\u001b[39;49m\u001b[43m)\u001b[49m\n",
      "\u001b[0;31mValueError\u001b[0m: list.remove(x): x not in list"
     ]
    }
   ],
   "source": [
    "L3[-1].remove(\"[]\")"
   ]
  },
  {
   "cell_type": "code",
   "execution_count": 102,
   "id": "42999353-d9a4-4812-8a67-c6e22b2a54bc",
   "metadata": {},
   "outputs": [
    {
     "data": {
      "text/plain": [
       "[[5, 8, 2], 5, 3, 8, []]"
      ]
     },
     "execution_count": 102,
     "metadata": {},
     "output_type": "execute_result"
    }
   ],
   "source": [
    "L3"
   ]
  },
  {
   "cell_type": "code",
   "execution_count": 103,
   "id": "f9411b14-5047-4ca1-9af1-fa464c45ead7",
   "metadata": {},
   "outputs": [
    {
     "data": {
      "text/plain": [
       "5"
      ]
     },
     "execution_count": 103,
     "metadata": {},
     "output_type": "execute_result"
    }
   ],
   "source": [
    "len(L3)"
   ]
  },
  {
   "cell_type": "code",
   "execution_count": 105,
   "id": "01a37a16-f477-4346-bcd3-bf2e8bc8e421",
   "metadata": {},
   "outputs": [
    {
     "data": {
      "text/plain": [
       "[]"
      ]
     },
     "execution_count": 105,
     "metadata": {},
     "output_type": "execute_result"
    }
   ],
   "source": [
    "L3[4]"
   ]
  },
  {
   "cell_type": "code",
   "execution_count": 106,
   "id": "85f4b89f-ee67-4512-907e-e23085704fa5",
   "metadata": {},
   "outputs": [],
   "source": [
    "L3.remove([])"
   ]
  },
  {
   "cell_type": "code",
   "execution_count": 107,
   "id": "d27cb947-40b6-4e22-9f7c-946e341b6c19",
   "metadata": {},
   "outputs": [
    {
     "data": {
      "text/plain": [
       "[[5, 8, 2], 5, 3, 8]"
      ]
     },
     "execution_count": 107,
     "metadata": {},
     "output_type": "execute_result"
    }
   ],
   "source": [
    "L3"
   ]
  },
  {
   "cell_type": "code",
   "execution_count": 108,
   "id": "0efdb27e-0c0a-4977-9bee-1de6485e6fcd",
   "metadata": {},
   "outputs": [],
   "source": [
    "L3.remove([5, 8, 2])"
   ]
  },
  {
   "cell_type": "code",
   "execution_count": 109,
   "id": "60a881c3-fbd7-49f0-be6d-9d6e7ca53f66",
   "metadata": {},
   "outputs": [
    {
     "data": {
      "text/plain": [
       "[5, 3, 8]"
      ]
     },
     "execution_count": 109,
     "metadata": {},
     "output_type": "execute_result"
    }
   ],
   "source": [
    "L3"
   ]
  },
  {
   "cell_type": "code",
   "execution_count": 110,
   "id": "adf8dc43-8f95-4e65-a27e-eabf56519883",
   "metadata": {},
   "outputs": [],
   "source": [
    "L3.append(L2)"
   ]
  },
  {
   "cell_type": "code",
   "execution_count": 111,
   "id": "980e07d6-cc66-41c8-9bf9-32949b2ed0b3",
   "metadata": {},
   "outputs": [
    {
     "data": {
      "text/plain": [
       "[5, 3, 8, []]"
      ]
     },
     "execution_count": 111,
     "metadata": {},
     "output_type": "execute_result"
    }
   ],
   "source": [
    "L3"
   ]
  },
  {
   "cell_type": "code",
   "execution_count": 112,
   "id": "fbe37410-1ff1-4ef9-82d8-3280d76b2a2f",
   "metadata": {},
   "outputs": [],
   "source": [
    "L4 = [5,2,6,4]"
   ]
  },
  {
   "cell_type": "code",
   "execution_count": 113,
   "id": "42e79c08-f864-4587-923d-d9d91d275970",
   "metadata": {},
   "outputs": [],
   "source": [
    "L3.append(L4)"
   ]
  },
  {
   "cell_type": "code",
   "execution_count": 114,
   "id": "1abc16c2-bafd-4ffd-b2c4-8c5c8566aa19",
   "metadata": {},
   "outputs": [
    {
     "data": {
      "text/plain": [
       "[5, 3, 8, [], [5, 2, 6, 4]]"
      ]
     },
     "execution_count": 114,
     "metadata": {},
     "output_type": "execute_result"
    }
   ],
   "source": [
    "L3"
   ]
  },
  {
   "cell_type": "code",
   "execution_count": 115,
   "id": "954c7cee-4d07-4a70-875f-26bd977879a4",
   "metadata": {},
   "outputs": [],
   "source": [
    "L3.append(\"swis\")"
   ]
  },
  {
   "cell_type": "code",
   "execution_count": 116,
   "id": "b969ca98-2fca-4e1c-949e-1a8326ffa999",
   "metadata": {},
   "outputs": [
    {
     "data": {
      "text/plain": [
       "[5, 3, 8, [], [5, 2, 6, 4], 'swis']"
      ]
     },
     "execution_count": 116,
     "metadata": {},
     "output_type": "execute_result"
    }
   ],
   "source": [
    "L3"
   ]
  },
  {
   "cell_type": "code",
   "execution_count": 117,
   "id": "4d0d9a35-4227-4752-b221-4b80f671bf1a",
   "metadata": {},
   "outputs": [],
   "source": [
    "L3.reverse()"
   ]
  },
  {
   "cell_type": "code",
   "execution_count": 118,
   "id": "86e13e6f-e0ca-4cbd-a7bf-6ffe318948e9",
   "metadata": {},
   "outputs": [
    {
     "data": {
      "text/plain": [
       "['swis', [5, 2, 6, 4], [], 8, 3, 5]"
      ]
     },
     "execution_count": 118,
     "metadata": {},
     "output_type": "execute_result"
    }
   ],
   "source": [
    "L3"
   ]
  },
  {
   "cell_type": "code",
   "execution_count": 120,
   "id": "5bf97014-ba76-4555-9c3e-55cd435074bb",
   "metadata": {},
   "outputs": [
    {
     "ename": "TypeError",
     "evalue": "list.reverse() takes no arguments (1 given)",
     "output_type": "error",
     "traceback": [
      "\u001b[0;31m---------------------------------------------------------------------------\u001b[0m",
      "\u001b[0;31mTypeError\u001b[0m                                 Traceback (most recent call last)",
      "Cell \u001b[0;32mIn[120], line 1\u001b[0m\n\u001b[0;32m----> 1\u001b[0m \u001b[43mL3\u001b[49m\u001b[38;5;241;43m.\u001b[39;49m\u001b[43mreverse\u001b[49m\u001b[43m(\u001b[49m\u001b[43mL4\u001b[49m\u001b[43m)\u001b[49m\n",
      "\u001b[0;31mTypeError\u001b[0m: list.reverse() takes no arguments (1 given)"
     ]
    }
   ],
   "source": [
    "L3.reverse(L4)"
   ]
  },
  {
   "cell_type": "code",
   "execution_count": 121,
   "id": "3c4f14f2-1fbb-4f6b-9986-4e7401578e46",
   "metadata": {},
   "outputs": [
    {
     "data": {
      "text/plain": [
       "['swis', [5, 2, 6, 4], [], 8, 3, 5]"
      ]
     },
     "execution_count": 121,
     "metadata": {},
     "output_type": "execute_result"
    }
   ],
   "source": [
    "L3"
   ]
  },
  {
   "cell_type": "code",
   "execution_count": 122,
   "id": "00ce81e8-ffbe-4610-b55e-52d675433145",
   "metadata": {},
   "outputs": [
    {
     "data": {
      "text/plain": [
       "[5, 3, 8, [], [5, 2, 6, 4], 'swis']"
      ]
     },
     "execution_count": 122,
     "metadata": {},
     "output_type": "execute_result"
    }
   ],
   "source": [
    "L3[::-1]"
   ]
  },
  {
   "cell_type": "code",
   "execution_count": 123,
   "id": "6cb6b8ad-ca48-48be-aee8-4cd6c5361b3c",
   "metadata": {},
   "outputs": [
    {
     "data": {
      "text/plain": [
       "['swis', [5, 2, 6, 4], [], 8, 3, 5]"
      ]
     },
     "execution_count": 123,
     "metadata": {},
     "output_type": "execute_result"
    }
   ],
   "source": [
    "L3"
   ]
  },
  {
   "cell_type": "code",
   "execution_count": 124,
   "id": "d8dfb475-4b59-4d7b-8a98-dd7b04c80122",
   "metadata": {},
   "outputs": [],
   "source": [
    "L3 = L3[::-1]"
   ]
  },
  {
   "cell_type": "code",
   "execution_count": 125,
   "id": "9fe503bc-9d27-4c65-b024-78d69feae165",
   "metadata": {},
   "outputs": [
    {
     "data": {
      "text/plain": [
       "[5, 3, 8, [], [5, 2, 6, 4], 'swis']"
      ]
     },
     "execution_count": 125,
     "metadata": {},
     "output_type": "execute_result"
    }
   ],
   "source": [
    "L3"
   ]
  },
  {
   "cell_type": "code",
   "execution_count": 126,
   "id": "cbf4b9d7-6e1a-4e31-9741-b698f4c01e84",
   "metadata": {},
   "outputs": [],
   "source": [
    "L3 = L3[::-1]"
   ]
  },
  {
   "cell_type": "code",
   "execution_count": 127,
   "id": "1e1d7786-46c0-4fc7-9484-7da3b4f9b7bf",
   "metadata": {},
   "outputs": [
    {
     "data": {
      "text/plain": [
       "['swis', [5, 2, 6, 4], [], 8, 3, 5]"
      ]
     },
     "execution_count": 127,
     "metadata": {},
     "output_type": "execute_result"
    }
   ],
   "source": [
    "L3"
   ]
  },
  {
   "cell_type": "code",
   "execution_count": 128,
   "id": "413a12ec-b51d-4340-ae56-550892e9e452",
   "metadata": {},
   "outputs": [],
   "source": [
    "L3 = L3[::-1]"
   ]
  },
  {
   "cell_type": "code",
   "execution_count": 129,
   "id": "8ef9b007-e223-4b15-b086-a10d08b4b1f6",
   "metadata": {},
   "outputs": [
    {
     "data": {
      "text/plain": [
       "[5, 3, 8, [], [5, 2, 6, 4], 'swis']"
      ]
     },
     "execution_count": 129,
     "metadata": {},
     "output_type": "execute_result"
    }
   ],
   "source": [
    "L3"
   ]
  },
  {
   "cell_type": "code",
   "execution_count": 130,
   "id": "e85fc79d-03ac-45d5-a73f-5579d6088456",
   "metadata": {},
   "outputs": [
    {
     "ename": "TypeError",
     "evalue": "'<' not supported between instances of 'list' and 'int'",
     "output_type": "error",
     "traceback": [
      "\u001b[0;31m---------------------------------------------------------------------------\u001b[0m",
      "\u001b[0;31mTypeError\u001b[0m                                 Traceback (most recent call last)",
      "Cell \u001b[0;32mIn[130], line 1\u001b[0m\n\u001b[0;32m----> 1\u001b[0m \u001b[43mL3\u001b[49m\u001b[38;5;241;43m.\u001b[39;49m\u001b[43msort\u001b[49m\u001b[43m(\u001b[49m\u001b[43m)\u001b[49m\n",
      "\u001b[0;31mTypeError\u001b[0m: '<' not supported between instances of 'list' and 'int'"
     ]
    }
   ],
   "source": [
    "L3.sort()"
   ]
  },
  {
   "cell_type": "code",
   "execution_count": 131,
   "id": "2f2f5b15-2f9e-4fa6-a054-49706eed5700",
   "metadata": {},
   "outputs": [],
   "source": [
    "L4 = [5,6,8,88,55,47,54,84]"
   ]
  },
  {
   "cell_type": "code",
   "execution_count": 132,
   "id": "21dc749b-5125-4cda-b229-1e949164d411",
   "metadata": {},
   "outputs": [
    {
     "data": {
      "text/plain": [
       "[5, 6, 8, 88, 55, 47, 54, 84]"
      ]
     },
     "execution_count": 132,
     "metadata": {},
     "output_type": "execute_result"
    }
   ],
   "source": [
    "L4"
   ]
  },
  {
   "cell_type": "code",
   "execution_count": 133,
   "id": "fc87e366-6de4-4576-bdca-c5965fd4ba6c",
   "metadata": {},
   "outputs": [
    {
     "data": {
      "text/plain": [
       "<function list.sort(*, key=None, reverse=False)>"
      ]
     },
     "execution_count": 133,
     "metadata": {},
     "output_type": "execute_result"
    }
   ],
   "source": [
    "L4.sort"
   ]
  },
  {
   "cell_type": "code",
   "execution_count": 134,
   "id": "8cf944f6-75f5-47e6-bf89-0d9171114a8b",
   "metadata": {},
   "outputs": [],
   "source": [
    "L4.sort()"
   ]
  },
  {
   "cell_type": "code",
   "execution_count": 135,
   "id": "3fdf60b3-9d0e-4e7b-9c7e-9ff79b6f418e",
   "metadata": {},
   "outputs": [
    {
     "data": {
      "text/plain": [
       "[5, 6, 8, 47, 54, 55, 84, 88]"
      ]
     },
     "execution_count": 135,
     "metadata": {},
     "output_type": "execute_result"
    }
   ],
   "source": [
    "L4"
   ]
  },
  {
   "cell_type": "code",
   "execution_count": 139,
   "id": "394b48de-3c9e-4e43-aa73-db2fe0d3818d",
   "metadata": {},
   "outputs": [],
   "source": [
    "L4.sort()"
   ]
  },
  {
   "cell_type": "code",
   "execution_count": 140,
   "id": "664edc94-ded7-411a-bfbe-0569142dfd22",
   "metadata": {},
   "outputs": [],
   "source": [
    "L5 = [\"Shiva\", \"Rama\", \"Krishna\", \"Vishnu\"]"
   ]
  },
  {
   "cell_type": "code",
   "execution_count": 141,
   "id": "2c0e46ed-5967-4d14-975b-1f27d72270ed",
   "metadata": {},
   "outputs": [
    {
     "data": {
      "text/plain": [
       "['Shiva', 'Rama', 'Krishna', 'Vishnu']"
      ]
     },
     "execution_count": 141,
     "metadata": {},
     "output_type": "execute_result"
    }
   ],
   "source": [
    "L5"
   ]
  },
  {
   "cell_type": "code",
   "execution_count": 142,
   "id": "b5528cdb-2d97-4524-9043-8b6d4206719d",
   "metadata": {},
   "outputs": [
    {
     "ename": "AttributeError",
     "evalue": "'list' object has no attribute 'short'",
     "output_type": "error",
     "traceback": [
      "\u001b[0;31m---------------------------------------------------------------------------\u001b[0m",
      "\u001b[0;31mAttributeError\u001b[0m                            Traceback (most recent call last)",
      "Cell \u001b[0;32mIn[142], line 1\u001b[0m\n\u001b[0;32m----> 1\u001b[0m \u001b[43mL5\u001b[49m\u001b[38;5;241;43m.\u001b[39;49m\u001b[43mshort\u001b[49m()\n",
      "\u001b[0;31mAttributeError\u001b[0m: 'list' object has no attribute 'short'"
     ]
    }
   ],
   "source": [
    "L5.short()"
   ]
  },
  {
   "cell_type": "code",
   "execution_count": 144,
   "id": "e17d7a55-a3e1-4008-9cfa-7cf6991816df",
   "metadata": {},
   "outputs": [],
   "source": [
    "L5.sort()"
   ]
  },
  {
   "cell_type": "code",
   "execution_count": 145,
   "id": "bc28bccc-ced9-46bd-9ccf-4dbe69e8d351",
   "metadata": {},
   "outputs": [
    {
     "data": {
      "text/plain": [
       "['Krishna', 'Rama', 'Shiva', 'Vishnu']"
      ]
     },
     "execution_count": 145,
     "metadata": {},
     "output_type": "execute_result"
    }
   ],
   "source": [
    "L5"
   ]
  },
  {
   "cell_type": "code",
   "execution_count": 146,
   "id": "349f387e-70c1-4056-9c09-47ac03179bfb",
   "metadata": {},
   "outputs": [],
   "source": [
    "L5.sort(reverse=True)"
   ]
  },
  {
   "cell_type": "code",
   "execution_count": 147,
   "id": "6257eac5-4d4e-470d-b05a-b06c0d2ca21d",
   "metadata": {},
   "outputs": [
    {
     "data": {
      "text/plain": [
       "['Vishnu', 'Shiva', 'Rama', 'Krishna']"
      ]
     },
     "execution_count": 147,
     "metadata": {},
     "output_type": "execute_result"
    }
   ],
   "source": [
    "L5"
   ]
  },
  {
   "cell_type": "code",
   "execution_count": 148,
   "id": "d1988365-afbf-4364-a63d-994dcd2cab4a",
   "metadata": {},
   "outputs": [
    {
     "ename": "NameError",
     "evalue": "name 'l5' is not defined",
     "output_type": "error",
     "traceback": [
      "\u001b[0;31m---------------------------------------------------------------------------\u001b[0m",
      "\u001b[0;31mNameError\u001b[0m                                 Traceback (most recent call last)",
      "Cell \u001b[0;32mIn[148], line 1\u001b[0m\n\u001b[0;32m----> 1\u001b[0m \u001b[43ml5\u001b[49m\u001b[38;5;241m.\u001b[39mindex()\n",
      "\u001b[0;31mNameError\u001b[0m: name 'l5' is not defined"
     ]
    }
   ],
   "source": [
    "l5.index()"
   ]
  },
  {
   "cell_type": "code",
   "execution_count": 149,
   "id": "f6d550e7-248f-4a87-b6a9-e5d43a1ba01e",
   "metadata": {},
   "outputs": [
    {
     "data": {
      "text/plain": [
       "1"
      ]
     },
     "execution_count": 149,
     "metadata": {},
     "output_type": "execute_result"
    }
   ],
   "source": [
    "L5.index(\"Shiva\")"
   ]
  },
  {
   "cell_type": "code",
   "execution_count": 150,
   "id": "80866284-0c1f-4b07-a9b3-4f80125646c4",
   "metadata": {},
   "outputs": [
    {
     "data": {
      "text/plain": [
       "1"
      ]
     },
     "execution_count": 150,
     "metadata": {},
     "output_type": "execute_result"
    }
   ],
   "source": [
    "L5.count(\"Shiva\")"
   ]
  },
  {
   "cell_type": "code",
   "execution_count": 151,
   "id": "c06bda28-7df6-41a0-b6f4-a47452c0ca16",
   "metadata": {},
   "outputs": [
    {
     "data": {
      "text/plain": [
       "2"
      ]
     },
     "execution_count": 151,
     "metadata": {},
     "output_type": "execute_result"
    }
   ],
   "source": [
    "L5.index(\"Rama\")"
   ]
  },
  {
   "cell_type": "code",
   "execution_count": 152,
   "id": "736ff243-482a-4471-b803-8b2e9cd292ae",
   "metadata": {},
   "outputs": [
    {
     "data": {
      "text/plain": [
       "1"
      ]
     },
     "execution_count": 152,
     "metadata": {},
     "output_type": "execute_result"
    }
   ],
   "source": [
    "L5.count(\"Rama\")"
   ]
  },
  {
   "cell_type": "code",
   "execution_count": 153,
   "id": "da693649-c598-47e9-a00c-d2037f596d35",
   "metadata": {},
   "outputs": [],
   "source": [
    "s= \"Sush\""
   ]
  },
  {
   "cell_type": "code",
   "execution_count": 154,
   "id": "2b6189a0-91ea-473b-a009-4bc71b0515ee",
   "metadata": {},
   "outputs": [
    {
     "data": {
      "text/plain": [
       "[3, 5, 8, [], [5, 2, 6, 4], 'swis']"
      ]
     },
     "execution_count": 154,
     "metadata": {},
     "output_type": "execute_result"
    }
   ],
   "source": [
    "L3"
   ]
  },
  {
   "cell_type": "code",
   "execution_count": 156,
   "id": "6831a808-ea9c-4bb0-a673-67f3a2134413",
   "metadata": {},
   "outputs": [
    {
     "ename": "NameError",
     "evalue": "name 'S' is not defined",
     "output_type": "error",
     "traceback": [
      "\u001b[0;31m---------------------------------------------------------------------------\u001b[0m",
      "\u001b[0;31mNameError\u001b[0m                                 Traceback (most recent call last)",
      "Cell \u001b[0;32mIn[156], line 1\u001b[0m\n\u001b[0;32m----> 1\u001b[0m \u001b[43mS\u001b[49m[\u001b[38;5;241m0\u001b[39m] \u001b[38;5;241m=\u001b[39m \u001b[38;5;124m\"\u001b[39m\u001b[38;5;124ma\u001b[39m\u001b[38;5;124m\"\u001b[39m\n",
      "\u001b[0;31mNameError\u001b[0m: name 'S' is not defined"
     ]
    }
   ],
   "source": [
    "S[0] = \"a\""
   ]
  },
  {
   "cell_type": "code",
   "execution_count": 157,
   "id": "00eaedc1-abe9-471e-b037-883e2774c4df",
   "metadata": {},
   "outputs": [
    {
     "data": {
      "text/plain": [
       "[3, 5, 8, [], [5, 2, 6, 4], 'swis']"
      ]
     },
     "execution_count": 157,
     "metadata": {},
     "output_type": "execute_result"
    }
   ],
   "source": [
    "L3"
   ]
  },
  {
   "cell_type": "code",
   "execution_count": 158,
   "id": "bca1cdb3-17d3-4f9e-a507-9afbfeedfba0",
   "metadata": {},
   "outputs": [
    {
     "data": {
      "text/plain": [
       "3"
      ]
     },
     "execution_count": 158,
     "metadata": {},
     "output_type": "execute_result"
    }
   ],
   "source": [
    "L3[0]"
   ]
  },
  {
   "cell_type": "code",
   "execution_count": 159,
   "id": "bace79f7-4f33-41b0-bad2-8d3833f6dbbf",
   "metadata": {},
   "outputs": [],
   "source": [
    "L3[0] = 30"
   ]
  },
  {
   "cell_type": "code",
   "execution_count": 160,
   "id": "aa070cdb-1d00-408f-ba6e-d87aca9d5769",
   "metadata": {},
   "outputs": [
    {
     "data": {
      "text/plain": [
       "[30, 5, 8, [], [5, 2, 6, 4], 'swis']"
      ]
     },
     "execution_count": 160,
     "metadata": {},
     "output_type": "execute_result"
    }
   ],
   "source": [
    "L3"
   ]
  },
  {
   "cell_type": "code",
   "execution_count": 161,
   "id": "22784176-51ae-4309-95e9-1cd825ef37f1",
   "metadata": {},
   "outputs": [
    {
     "data": {
      "text/plain": [
       "'Sush'"
      ]
     },
     "execution_count": 161,
     "metadata": {},
     "output_type": "execute_result"
    }
   ],
   "source": [
    "s"
   ]
  },
  {
   "cell_type": "code",
   "execution_count": 162,
   "id": "507df0e9-546b-4476-8ae8-eb39334a1c0a",
   "metadata": {},
   "outputs": [
    {
     "data": {
      "text/plain": [
       "'SUSH'"
      ]
     },
     "execution_count": 162,
     "metadata": {},
     "output_type": "execute_result"
    }
   ],
   "source": [
    "s.upper()"
   ]
  },
  {
   "cell_type": "code",
   "execution_count": 164,
   "id": "53cebef7-ac52-45d9-bc35-0a2cce0e03bc",
   "metadata": {},
   "outputs": [
    {
     "data": {
      "text/plain": [
       "'aush'"
      ]
     },
     "execution_count": 164,
     "metadata": {},
     "output_type": "execute_result"
    }
   ],
   "source": [
    "s.replace('S','a')"
   ]
  },
  {
   "cell_type": "code",
   "execution_count": 165,
   "id": "5cbe0652-8504-4fa1-9bc8-be4093a06343",
   "metadata": {},
   "outputs": [
    {
     "data": {
      "text/plain": [
       "'Sush'"
      ]
     },
     "execution_count": 165,
     "metadata": {},
     "output_type": "execute_result"
    }
   ],
   "source": [
    "s"
   ]
  },
  {
   "cell_type": "code",
   "execution_count": 166,
   "id": "afedd5ea-6558-46c1-b6ee-733f66a7c0ea",
   "metadata": {},
   "outputs": [],
   "source": [
    "s = s.replace(\"S\",\"a\")"
   ]
  },
  {
   "cell_type": "code",
   "execution_count": 167,
   "id": "7ad5ffdb-80c0-4ebb-94c9-4fc1f7978fb2",
   "metadata": {},
   "outputs": [
    {
     "ename": "NameError",
     "evalue": "name 'S' is not defined",
     "output_type": "error",
     "traceback": [
      "\u001b[0;31m---------------------------------------------------------------------------\u001b[0m",
      "\u001b[0;31mNameError\u001b[0m                                 Traceback (most recent call last)",
      "Cell \u001b[0;32mIn[167], line 1\u001b[0m\n\u001b[0;32m----> 1\u001b[0m \u001b[43mS\u001b[49m\n",
      "\u001b[0;31mNameError\u001b[0m: name 'S' is not defined"
     ]
    }
   ],
   "source": [
    "S"
   ]
  },
  {
   "cell_type": "code",
   "execution_count": 168,
   "id": "11ffea31-388b-48d8-aff9-8f29076a8e0d",
   "metadata": {},
   "outputs": [
    {
     "data": {
      "text/plain": [
       "'aush'"
      ]
     },
     "execution_count": 168,
     "metadata": {},
     "output_type": "execute_result"
    }
   ],
   "source": [
    "s"
   ]
  },
  {
   "cell_type": "code",
   "execution_count": 169,
   "id": "de0915e2-8967-49c4-9e25-16f5cf7bb4f4",
   "metadata": {},
   "outputs": [
    {
     "ename": "NameError",
     "evalue": "name 'S' is not defined",
     "output_type": "error",
     "traceback": [
      "\u001b[0;31m---------------------------------------------------------------------------\u001b[0m",
      "\u001b[0;31mNameError\u001b[0m                                 Traceback (most recent call last)",
      "Cell \u001b[0;32mIn[169], line 1\u001b[0m\n\u001b[0;32m----> 1\u001b[0m \u001b[43mS\u001b[49m\n",
      "\u001b[0;31mNameError\u001b[0m: name 'S' is not defined"
     ]
    }
   ],
   "source": [
    "S"
   ]
  },
  {
   "cell_type": "code",
   "execution_count": 170,
   "id": "30af3445-f7c9-4061-b906-8cb1af805c1c",
   "metadata": {},
   "outputs": [
    {
     "data": {
      "text/plain": [
       "'aush'"
      ]
     },
     "execution_count": 170,
     "metadata": {},
     "output_type": "execute_result"
    }
   ],
   "source": [
    "s"
   ]
  },
  {
   "cell_type": "code",
   "execution_count": 171,
   "id": "aa278644-519f-4400-be57-75b9409f1233",
   "metadata": {},
   "outputs": [],
   "source": [
    "t = (2,3,5,4,\"Sushil\", \"Jiya\", 3+5j)"
   ]
  },
  {
   "cell_type": "code",
   "execution_count": 172,
   "id": "3572d4af-f23e-4aeb-bd06-a457ad27b09b",
   "metadata": {},
   "outputs": [
    {
     "data": {
      "text/plain": [
       "(2, 3, 5, 4, 'Sushil', 'Jiya', (3+5j))"
      ]
     },
     "execution_count": 172,
     "metadata": {},
     "output_type": "execute_result"
    }
   ],
   "source": [
    "t"
   ]
  },
  {
   "cell_type": "code",
   "execution_count": 173,
   "id": "81427a88-5b32-4bfb-99ad-65e0d290325b",
   "metadata": {},
   "outputs": [
    {
     "data": {
      "text/plain": [
       "tuple"
      ]
     },
     "execution_count": 173,
     "metadata": {},
     "output_type": "execute_result"
    }
   ],
   "source": [
    "type(t)"
   ]
  },
  {
   "cell_type": "code",
   "execution_count": 174,
   "id": "57b46ede-a8cc-4c44-886a-7bad85dfac4f",
   "metadata": {},
   "outputs": [
    {
     "data": {
      "text/plain": [
       "7"
      ]
     },
     "execution_count": 174,
     "metadata": {},
     "output_type": "execute_result"
    }
   ],
   "source": [
    "len(t)"
   ]
  },
  {
   "cell_type": "code",
   "execution_count": 175,
   "id": "8207c616-0973-4dc9-a1b9-407e809ed12a",
   "metadata": {},
   "outputs": [
    {
     "ename": "AttributeError",
     "evalue": "'tuple' object has no attribute 'append'",
     "output_type": "error",
     "traceback": [
      "\u001b[0;31m---------------------------------------------------------------------------\u001b[0m",
      "\u001b[0;31mAttributeError\u001b[0m                            Traceback (most recent call last)",
      "Cell \u001b[0;32mIn[175], line 1\u001b[0m\n\u001b[0;32m----> 1\u001b[0m \u001b[43mt\u001b[49m\u001b[38;5;241;43m.\u001b[39;49m\u001b[43mappend\u001b[49m(\u001b[38;5;241m5\u001b[39m)\n",
      "\u001b[0;31mAttributeError\u001b[0m: 'tuple' object has no attribute 'append'"
     ]
    }
   ],
   "source": [
    "t.append(5)"
   ]
  },
  {
   "cell_type": "code",
   "execution_count": 176,
   "id": "0e1cf047-30b4-4dd4-a095-ffa8f34bde4b",
   "metadata": {},
   "outputs": [
    {
     "data": {
      "text/plain": [
       "3"
      ]
     },
     "execution_count": 176,
     "metadata": {},
     "output_type": "execute_result"
    }
   ],
   "source": [
    "t[1\n",
    "]"
   ]
  },
  {
   "cell_type": "code",
   "execution_count": 177,
   "id": "dc882f93-5717-4625-b6a5-0353ade97044",
   "metadata": {},
   "outputs": [
    {
     "data": {
      "text/plain": [
       "(2, 3, 5, 4, 'Sushil', 'Jiya', (3+5j))"
      ]
     },
     "execution_count": 177,
     "metadata": {},
     "output_type": "execute_result"
    }
   ],
   "source": [
    "t"
   ]
  },
  {
   "cell_type": "code",
   "execution_count": 178,
   "id": "8b911b94-c615-48ad-9bbd-cd91bbf2a169",
   "metadata": {},
   "outputs": [
    {
     "ename": "AttributeError",
     "evalue": "'tuple' object has no attribute 'replace'",
     "output_type": "error",
     "traceback": [
      "\u001b[0;31m---------------------------------------------------------------------------\u001b[0m",
      "\u001b[0;31mAttributeError\u001b[0m                            Traceback (most recent call last)",
      "Cell \u001b[0;32mIn[178], line 1\u001b[0m\n\u001b[0;32m----> 1\u001b[0m \u001b[43mt\u001b[49m\u001b[38;5;241;43m.\u001b[39;49m\u001b[43mreplace\u001b[49m(\u001b[38;5;241m0\u001b[39m, \u001b[38;5;241m1\u001b[39m)\n",
      "\u001b[0;31mAttributeError\u001b[0m: 'tuple' object has no attribute 'replace'"
     ]
    }
   ],
   "source": [
    "t.replace(0, 1)"
   ]
  },
  {
   "cell_type": "code",
   "execution_count": 179,
   "id": "b372911f-71dc-4535-a16e-41a43d24b353",
   "metadata": {},
   "outputs": [],
   "source": [
    "s = {}"
   ]
  },
  {
   "cell_type": "code",
   "execution_count": 180,
   "id": "96f544e0-f9b9-48ce-8bf5-4b385e91b8c2",
   "metadata": {},
   "outputs": [
    {
     "data": {
      "text/plain": [
       "dict"
      ]
     },
     "execution_count": 180,
     "metadata": {},
     "output_type": "execute_result"
    }
   ],
   "source": [
    "type(s)"
   ]
  },
  {
   "cell_type": "code",
   "execution_count": null,
   "id": "b00f6f34-e966-4282-83db-33b4e1704aa4",
   "metadata": {},
   "outputs": [],
   "source": []
  }
 ],
 "metadata": {
  "kernelspec": {
   "display_name": "Python 3 (ipykernel)",
   "language": "python",
   "name": "python3"
  },
  "language_info": {
   "codemirror_mode": {
    "name": "ipython",
    "version": 3
   },
   "file_extension": ".py",
   "mimetype": "text/x-python",
   "name": "python",
   "nbconvert_exporter": "python",
   "pygments_lexer": "ipython3",
   "version": "3.10.8"
  }
 },
 "nbformat": 4,
 "nbformat_minor": 5
}
